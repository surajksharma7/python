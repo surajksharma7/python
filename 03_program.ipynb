{
 "cells": [
  {
   "cell_type": "code",
   "execution_count": 1,
   "id": "7875d1bb-c956-4a5c-b61d-4cd25e7bfca0",
   "metadata": {
    "tags": []
   },
   "outputs": [],
   "source": [
    "# while loop"
   ]
  },
  {
   "cell_type": "code",
   "execution_count": 2,
   "id": "8a1452f2-b379-41c5-8769-0ac49437ac2d",
   "metadata": {
    "tags": []
   },
   "outputs": [],
   "source": [
    "# while with break "
   ]
  },
  {
   "cell_type": "code",
   "execution_count": 4,
   "id": "232e2a9b-4fe8-40a6-8899-8c7085f20d98",
   "metadata": {
    "tags": []
   },
   "outputs": [
    {
     "name": "stdout",
     "output_type": "stream",
     "text": [
      "0.0.0\n"
     ]
    }
   ],
   "source": [
    "import pkg_resources\n",
    "\n",
    "version = pkg_resources.get_distribution(\"library\").version\n",
    "print(version)"
   ]
  },
  {
   "cell_type": "code",
   "execution_count": null,
   "id": "e20f2ba5-dbd5-46a1-8e94-55513cf08e53",
   "metadata": {},
   "outputs": [],
   "source": []
  }
 ],
 "metadata": {
  "kernelspec": {
   "display_name": "Python 3 (ipykernel)",
   "language": "python",
   "name": "python3"
  },
  "language_info": {
   "codemirror_mode": {
    "name": "ipython",
    "version": 3
   },
   "file_extension": ".py",
   "mimetype": "text/x-python",
   "name": "python",
   "nbconvert_exporter": "python",
   "pygments_lexer": "ipython3",
   "version": "3.11.4"
  }
 },
 "nbformat": 4,
 "nbformat_minor": 5
}
