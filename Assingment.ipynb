{
 "cells": [
  {
   "cell_type": "markdown",
   "id": "c65db055-cef3-4c52-99d2-86dbf2fc8aeb",
   "metadata": {},
   "source": [
    "### Part 1 : Inroduction To Python"
   ]
  },
  {
   "cell_type": "markdown",
   "id": "56ef7ab3-b159-48c1-b82f-9c5eaaa2916c",
   "metadata": {},
   "source": [
    "#### 1. Python Installation and Execution"
   ]
  },
  {
   "cell_type": "markdown",
   "id": "3afb4a5a-cbb3-449b-b746-56b84f1c5c8c",
   "metadata": {
    "tags": []
   },
   "source": [
    "![Sample Image](01_output.png)"
   ]
  },
  {
   "cell_type": "markdown",
   "id": "519144bc-8bbe-42c0-9b97-da9d1da3960b",
   "metadata": {},
   "source": [
    "![Sample Image](02_output.png)"
   ]
  },
  {
   "cell_type": "markdown",
   "id": "c3f326a6-3981-44fd-b32b-77cd7f40a863",
   "metadata": {},
   "source": [
    "#### 1. Using IDLE"
   ]
  },
  {
   "cell_type": "code",
   "execution_count": 1,
   "id": "c6a7e551-1cf3-46d1-bfb9-e12009c2865e",
   "metadata": {
    "tags": []
   },
   "outputs": [
    {
     "name": "stdout",
     "output_type": "stream",
     "text": [
      "Hello world\n"
     ]
    }
   ],
   "source": [
    "# print hello world\n",
    "print(\"Hello world\")"
   ]
  },
  {
   "cell_type": "markdown",
   "id": "5d70c0d7-d4ed-48af-9f9f-03d38337e39b",
   "metadata": {
    "tags": []
   },
   "source": [
    "### 2. Basic Python Syntax"
   ]
  },
  {
   "cell_type": "markdown",
   "id": "d10bb974-fc08-4fc2-98d8-b8b95b70db3c",
   "metadata": {},
   "source": [
    "### string Operations"
   ]
  },
  {
   "cell_type": "code",
   "execution_count": 2,
   "id": "51cb8064-da28-4d62-8ad6-eafda6e73352",
   "metadata": {
    "tags": []
   },
   "outputs": [],
   "source": [
    "# write a python program that takes user input first \n",
    "# name and last name and print them in reverse order with space between them "
   ]
  },
  {
   "cell_type": "code",
   "execution_count": null,
   "id": "831f1333-7ba7-461a-a5f3-7670e8801774",
   "metadata": {
    "tags": []
   },
   "outputs": [],
   "source": [
    "# taking user input for first name and last name \n",
    "first_name,last_name = map(str,input(\"enter your first name and last name \").split())\n",
    "\n",
    "# printing name is reverse order \n",
    "print(\"your name in reverse order is \",last_name,\"\" ,first_name)"
   ]
  },
  {
   "cell_type": "code",
   "execution_count": 3,
   "id": "99152cc3-c244-4268-8ce6-d0408a641684",
   "metadata": {
    "tags": []
   },
   "outputs": [],
   "source": [
    "# use at least two string method and explain their purpose in comment"
   ]
  },
  {
   "cell_type": "code",
   "execution_count": 13,
   "id": "d0cb8006-e349-4b36-a1fa-9592c713f8b4",
   "metadata": {
    "tags": []
   },
   "outputs": [
    {
     "data": {
      "text/plain": [
       "5"
      ]
     },
     "execution_count": 13,
     "metadata": {},
     "output_type": "execute_result"
    }
   ],
   "source": [
    "a = 'scfswadh beh ehvmhje chj wopgjw;mepvjwpm[muy3[mc[,wt5kv[0wmyu'\n",
    "a.find('a') # this returns the inex position --> used in findind specific value from a long weather it contains a specific word or not "
   ]
  },
  {
   "cell_type": "code",
   "execution_count": 14,
   "id": "d454923a-ed1b-48c8-ac37-b40af4030034",
   "metadata": {
    "tags": []
   },
   "outputs": [
    {
     "data": {
      "text/plain": [
       "0"
      ]
     },
     "execution_count": 14,
     "metadata": {},
     "output_type": "execute_result"
    }
   ],
   "source": [
    "# count \n",
    "a = 'emuvjyp w5nvj wpmwptu aclhntpvhwmp;n'\n",
    "a.count('s') # this count total occurance of a specific value "
   ]
  },
  {
   "cell_type": "markdown",
   "id": "f256a279-23ea-497f-877c-d37bb713a05d",
   "metadata": {},
   "source": [
    "### 2"
   ]
  },
  {
   "cell_type": "code",
   "execution_count": 15,
   "id": "268b8fca-7276-48df-883a-0549d7bc0c89",
   "metadata": {
    "tags": []
   },
   "outputs": [],
   "source": [
    "# user input data type conversion"
   ]
  },
  {
   "cell_type": "code",
   "execution_count": 21,
   "id": "1b52c663-bfce-44ec-9516-6d2a1e21daac",
   "metadata": {
    "tags": []
   },
   "outputs": [
    {
     "name": "stdin",
     "output_type": "stream",
     "text": [
      "enter value 55\n",
      "enter value 66\n"
     ]
    },
    {
     "name": "stdout",
     "output_type": "stream",
     "text": [
      "by default input is string in python 5566\n"
     ]
    }
   ],
   "source": [
    "num1 = input(\"enter value\")\n",
    "num2 = input(\"enter value\")\n",
    "\n",
    "add = num1+num2\n",
    "print(\"by default input is string in python\",add)"
   ]
  },
  {
   "cell_type": "code",
   "execution_count": 22,
   "id": "6d68e0a2-3f0c-4c31-be7b-a81a93290862",
   "metadata": {
    "tags": []
   },
   "outputs": [
    {
     "name": "stdout",
     "output_type": "stream",
     "text": [
      "121\n"
     ]
    }
   ],
   "source": [
    "# we can change string to other using type conversion\n",
    "num1 = int(num1)\n",
    "num2 = int(num2)\n",
    "\n",
    "add = num1+num2\n",
    "print(add)"
   ]
  },
  {
   "cell_type": "code",
   "execution_count": 26,
   "id": "bbc245be-9e0d-4a9f-8a4a-d08dbd8d8e03",
   "metadata": {
    "tags": []
   },
   "outputs": [],
   "source": [
    "# integer - values having no floating value in it . ex - 5 , 10 , 1e308\n",
    "# float - values having a real value and its decimal value. ex - 5.5,6.7,1.7e308\n",
    "# complex  - values having real part and imaginary part. ex -> 5+6j"
   ]
  },
  {
   "cell_type": "markdown",
   "id": "1718769d-cbd8-4c03-b2b0-ec47f5b09af3",
   "metadata": {
    "tags": []
   },
   "source": [
    "### 3 simple input and output"
   ]
  },
  {
   "cell_type": "code",
   "execution_count": 32,
   "id": "321347a9-0c1c-49b8-a63f-1cf91ccbba66",
   "metadata": {
    "tags": []
   },
   "outputs": [
    {
     "name": "stdin",
     "output_type": "stream",
     "text": [
      "Enter lenght of rectangle : 10\n",
      "Enter bredth of rectangle : 10\n"
     ]
    },
    {
     "name": "stdout",
     "output_type": "stream",
     "text": [
      "Area of the rectangle is :100\n"
     ]
    }
   ],
   "source": [
    "# take user input for length and bredth\n",
    "leng = int(input(\"Enter lenght of rectangle :\"))\n",
    "bred = int(input(\"Enter bredth of rectangle :\"))\n",
    "\n",
    "# calculate area \n",
    "area = leng * bred \n",
    "\n",
    "# printing area \n",
    "print(f\"Area of the rectangle is :{area}\")"
   ]
  },
  {
   "cell_type": "code",
   "execution_count": 35,
   "id": "73a9889b-a67a-4ad5-baa4-09a729bbc7a1",
   "metadata": {
    "tags": []
   },
   "outputs": [
    {
     "name": "stdin",
     "output_type": "stream",
     "text": [
      "Enter lenght of rectangle : 10\n",
      "Enter bredth of rectangle : 10\n"
     ]
    },
    {
     "name": "stdout",
     "output_type": "stream",
     "text": [
      "Area of the rectangle is 100.00 \n"
     ]
    }
   ],
   "source": [
    "# take user input for length and bredth\n",
    "leng = int(input(\"Enter lenght of rectangle :\"))\n",
    "bred = int(input(\"Enter bredth of rectangle :\"))\n",
    "\n",
    "# calculate area \n",
    "area = leng * bred \n",
    "\n",
    "# printing area \n",
    "print(\"Area of the rectangle is {:.2f} \".format(area))"
   ]
  },
  {
   "cell_type": "code",
   "execution_count": 38,
   "id": "080751c7-05c9-4e6e-bc9c-58e84d3f718f",
   "metadata": {
    "tags": []
   },
   "outputs": [
    {
     "name": "stdout",
     "output_type": "stream",
     "text": [
      "The value of pi is approximately 5.00\n"
     ]
    }
   ],
   "source": [
    "a = 5\n",
    "formatted_string = \"The value of pi is approximately %.2f\" % a\n",
    "print(formatted_string)\n"
   ]
  },
  {
   "cell_type": "code",
   "execution_count": null,
   "id": "6afc198c-2e7d-4e96-b09d-2abcf780e722",
   "metadata": {},
   "outputs": [],
   "source": []
  }
 ],
 "metadata": {
  "kernelspec": {
   "display_name": "Python 3 (ipykernel)",
   "language": "python",
   "name": "python3"
  },
  "language_info": {
   "codemirror_mode": {
    "name": "ipython",
    "version": 3
   },
   "file_extension": ".py",
   "mimetype": "text/x-python",
   "name": "python",
   "nbconvert_exporter": "python",
   "pygments_lexer": "ipython3",
   "version": "3.11.4"
  }
 },
 "nbformat": 4,
 "nbformat_minor": 5
}
