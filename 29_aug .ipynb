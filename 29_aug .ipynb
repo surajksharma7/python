{
 "cells": [
  {
   "cell_type": "code",
   "execution_count": 2,
   "id": "9664568c-d1f4-4c0f-ac9f-d51c1143ad53",
   "metadata": {
    "tags": []
   },
   "outputs": [],
   "source": [
    "person =  {\"name\":\"suraj\"}"
   ]
  },
  {
   "cell_type": "code",
   "execution_count": 10,
   "id": "90d64663-e250-4ff8-b329-97c3117778eb",
   "metadata": {
    "tags": []
   },
   "outputs": [
    {
     "name": "stdout",
     "output_type": "stream",
     "text": [
      "suraj\n"
     ]
    }
   ],
   "source": [
    "for key,val in person.items():\n",
    "    print(val)"
   ]
  },
  {
   "cell_type": "code",
   "execution_count": null,
   "id": "7b99c907-fdf3-4081-85d8-506ed5ec9804",
   "metadata": {},
   "outputs": [],
   "source": []
  }
 ],
 "metadata": {
  "kernelspec": {
   "display_name": "Python 3 (ipykernel)",
   "language": "python",
   "name": "python3"
  },
  "language_info": {
   "codemirror_mode": {
    "name": "ipython",
    "version": 3
   },
   "file_extension": ".py",
   "mimetype": "text/x-python",
   "name": "python",
   "nbconvert_exporter": "python",
   "pygments_lexer": "ipython3",
   "version": "3.11.4"
  }
 },
 "nbformat": 4,
 "nbformat_minor": 5
}
