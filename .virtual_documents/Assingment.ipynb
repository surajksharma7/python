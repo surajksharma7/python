


























print("Hello, Python World!")











# taking user input for first name and last name 
first_name,last_name = map(str,input("enter your first name and last name ").split())

# printing name is reverse order 
print("your name in reverse order is ",last_name,"" ,first_name)
name = first_name +" " + last_name
print("Name in reverse order ",name[::-1])





a = 'scfswadh beh ehvmhje chj wopgjw;mepvjwpm[muy3[mc[,wt5kv[0wmyu'
a.find('a')





# count 
a = 'emuvjyp w5nvj wpmwptu aclhntpvhwmp;n'
a.count('s') 











num1 = input("enter value")
num2 = input("enter value")

add = num1+num2
print("By default input is string in python",add)


# we can change string to other using type conversion
num1 = int(num1)
num2 = int(num2)

add = num1+num2
print(add)


# integer - values having no floating value in it . ex - 5 , 10 , 1e308
# float - values having a real value and its decimal value. ex - 5.5,6.7,1.7e308
# complex  - values having real part and imaginary part. ex -> 5+6j








leng = int(input("Enter lenght of rectangle :"))
bred = int(input("Enter bredth of rectangle :"))

# calculate area 
area = leng * bred 

# printing area 
print(f"Area of the rectangle is :{area}")








# take user input for length and bredth
leng = int(input("Enter lenght of rectangle :"))
bred = int(input("Enter bredth of rectangle :"))

# calculate area 
area = leng * bred 

# printing area 
print("Area of the rectangle is {:.2f} ".format(area))


num1 , num2 ,num3 = map(int,input("Enter three numbers").split())
avg = (num1 + num2 + num3)/3
formatted_string = f"The avg {num1} {num2} {num3} of three numbers are  %.2f" % avg
print(formatted_string)








while True:
    user_input = input("Enter a number to check or type 'exit' to quit: ")

    if user_input.lower() == 'exit':
        print("Exiting the program.")
        break

    try:
        num = float(user_input)  # Convert input to a float to handle both integer and floating-point numbers
    except ValueError:
        print("Invalid input. Please enter a valid number or 'exit'.")
        continue

    if num > 0:
        print("Number is positive")
    elif num < 0:
        print("Number is negative")
    else:
        print("Number is zero")






def is_even(number):
    return number % 2 == 0

def is_odd(number):
    return number % 2 != 0

try:
    num1 = int(input("Enter the first number: "))
    num2 = int(input("Enter the second number: "))
except ValueError:
    print("Invalid input. Please enter valid integers.")
    exit()
    
num1_even = is_even(num1)
num2_even = is_even(num2)

if num1_even and num2_even:
    print("Both numbers are even.")
elif not num1_even and not num2_even:
    print("Both numbers are odd.")
else:
    print("One number is even and the other is odd.")









def int_to_binary(n):
    if n == 0:
        return "0b0"
    
    binary_str = ""
    while n > 0:
        binary_str = str(n & 1) + binary_str  # Append the last bit
        n >>= 1  # Shift right to process the next bit
    return "0b" + binary_str


def int_to_octal(n):
    if n == 0:
        return "0o0"
    
    octal_str = ""
    while n > 0:
        octal_str = str(n & 7) + octal_str  # Append the last 3 bits (octal digit)
        n >>= 3  # Shift right by 3 bits
    return "0o" + octal_str



def int_to_hexadecimal(n):
    if n == 0:
        return "0x0"
    
    hex_str = ""
    hex_digits = "0123456789ABCDEF"
    while n > 0:
        hex_str = hex_digits[n & 15] + hex_str  # Append the last 4 bits (hex digit)
        n >>= 4  # Shift right by 4 bits
    return "0x" + hex_str


try:
    num = int(input("Enter an integer: "))
except ValueError:
    print("Invalid input. Please enter a valid integer.")
    exit()

print("Binary representation:", int_to_binary(num))
print("Octal representation:", int_to_octal(num))
print("Hexadecimal representation:", int_to_hexadecimal(num))




