


























print("Hello, Python World!")











# taking user input for first name and last name 
first_name,last_name = map(str,input("enter your first name and last name ").split())

# printing name is reverse order 
print("your name in reverse order is ",last_name,"" ,first_name)
name = first_name +" " + last_name
print("Name in reverse order ",name[::-1])








a = 'scfswadh beh ehvmhje chj wopgjw;mepvjwpm[muy3[mc[,wt5kv[0wmyu'
a.find('a') # this returns the inex position --> used in findind specific value from a long weather it contains a specific word or not 


# count 
a = 'emuvjyp w5nvj wpmwptu aclhntpvhwmp;n'
a.count('s') # this count total occurance of a specific value 





# user input data type conversion


num1 = input("enter value")
num2 = input("enter value")

add = num1+num2
print("by default input is string in python",add)


# we can change string to other using type conversion
num1 = int(num1)
num2 = int(num2)

add = num1+num2
print(add)


# integer - values having no floating value in it . ex - 5 , 10 , 1e308
# float - values having a real value and its decimal value. ex - 5.5,6.7,1.7e308
# complex  - values having real part and imaginary part. ex -> 5+6j





# take user input for length and bredth
leng = int(input("Enter lenght of rectangle :"))
bred = int(input("Enter bredth of rectangle :"))

# calculate area 
area = leng * bred 

# printing area 
print(f"Area of the rectangle is :{area}")


# take user input for length and bredth
leng = int(input("Enter lenght of rectangle :"))
bred = int(input("Enter bredth of rectangle :"))

# calculate area 
area = leng * bred 

# printing area 
print("Area of the rectangle is {:.2f} ".format(area))


a = 5
formatted_string = "The value of pi is approximately %.2f" % a
print(formatted_string)




