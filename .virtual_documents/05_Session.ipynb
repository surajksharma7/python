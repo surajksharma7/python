# empty Dictionary 
dict0 = {}
print(dict)


# 1 D dictionary 
dict1 = {
    "name" : "suraj",
    "age" : "19",
    "gender" : "male"
}
print(dict1)


# with mixed keys 



# 2d dictionary 


# using sequence and dict function 


# duplicate key


# mutable items as a key


# mass and accrerlation and return its accerelation 
def funct(mass,acc):
    return *b

force = funct(40,10)
print(force)



