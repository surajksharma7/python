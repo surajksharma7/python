import pickle

my_list = ['apple', 'banana', 'cherry']

try:
    with open('day30sept.pkl', 'wb') as file:
        pickle.dump(my_list, file)
    print("process done")
except:
    print("could not import this file to list ")


import pickle
with open('day30.pkl', 'rb') as file:
    loaded_list = pickle.load(file)
print(loaded_list)



