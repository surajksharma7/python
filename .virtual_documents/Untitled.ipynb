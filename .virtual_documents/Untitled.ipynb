def square(X):
    return X*X


f = square(5)


print(f)


def apply_function(func, value):
    return func(value)


a = apply_function(square, 5)


print(a)





num = [1,2,3]

a = list(map(lambda x : x*2 ,num))


a


def multiply(x):
    for i in x:
        return x * 2


import numpy as np

num = np.array([1,2,3])
multiply(num)



