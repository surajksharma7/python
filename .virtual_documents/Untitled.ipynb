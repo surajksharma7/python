# functions 


def add(inputArguments,Args2){
    # code
    return
}
