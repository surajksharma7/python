def square(X):
    return X*X


f = square(5)


print(f)


def apply_function(func, value):
    return func(value)


a = apply_function(square, 5)


print(a)






