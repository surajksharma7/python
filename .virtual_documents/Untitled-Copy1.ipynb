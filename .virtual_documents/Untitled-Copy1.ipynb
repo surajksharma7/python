


import pickle

my_list = ['apple', 'banana', 'cherry']

try:
    with open('day30sept.pkl', 'wb') as file:
        pickle.dump(my_list, file)
    print("process done")
except:
    print("could not import this file to list ")


import pickle
with open('day30.pkl', 'rb') as file:
    loaded_list = pickle.load(file)
print(loaded_list)





list = [1,2,3,4,5]

filePath = "date.txt"

with open (filePath,"w") as filehandle:
    filehandle.write(list1)


with open (filepath,"r") as filehandle:
    readata = filehandle.read(list1)
    print(f"read data is {readata} \n its type is {type(readata)}")
