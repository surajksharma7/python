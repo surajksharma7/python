


def greet(name, greeting="Hello"):
    return f"{greeting} {name}"
print(greet("Alice"))
print(greet("Bob", "Good Morning"))





def create_profile(name, city, age=18):
    return f"Name: {name}, Age: {age}, City: {city}"
    
print(create_profile(name="John", city="Chicago"))              
print(create_profile(name="Emma", age=22, city="Los Angeles"))





def sum_numbers(*args, **kwargs):
    sum_args = sum(arg for arg in args if isinstance(arg, (int, float)))
    return (sum_args, kwargs) if kwargs else sum_args

print(sum_numbers(1, 2, 3))          
print(sum_numbers(1, 2, x=4, y=5))  





def square_list(numbers):
    return list(map(lambda x: x**2, numbers))

print(square_list([1, 2, 3, 4]))





def filter_odd_numbers(numbers):
    return list(filter(lambda x: x % 2 == 0, numbers))
print(filter_odd_numbers([1, 2, 3, 4, 5])) 





squares = [x**2 for x in range(5)]
print(squares)





evens = [x for x in range(1, 21) if x % 2 == 0]
print(evens)





import os
import time

def file_operations():
    os.makedirs("test_folder", exist_ok=True)
    print("Folder created.")
    time.sleep(3)
    os.rmdir("test_folder")
    print("Folder deleted.")

file_operations()






from time import sleep as pause

pause(2)
print("Paused execution...") 





def flatten_list(nested_list):
    flat_list = []
    for item in nested_list:
        if isinstance(item, list):
            flat_list.extend(flatten_list(item))
        else:
            flat_list.append(item)
    return flat_list

# Example Usage:
print(flatten_list([1, [2, 3], [[4, 5], 6]]))
print(flatten_list([[1, 2], [3, [4, [5]]]]))  




