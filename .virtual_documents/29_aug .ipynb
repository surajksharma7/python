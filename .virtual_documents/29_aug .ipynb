person =  {"name":"suraj"}


for key,val in person.items():
    print(val)



