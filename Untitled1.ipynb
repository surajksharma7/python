{
 "cells": [
  {
   "cell_type": "code",
   "execution_count": 1,
   "id": "fa9d4682-42ea-44a9-b20d-3f036d448ffd",
   "metadata": {
    "tags": []
   },
   "outputs": [],
   "source": [
    "a = [[1,2],[3,4]]"
   ]
  },
  {
   "cell_type": "code",
   "execution_count": 48,
   "id": "6c69cd49-50d6-4059-abd6-ba5b970ca805",
   "metadata": {
    "tags": []
   },
   "outputs": [],
   "source": [
    "def return_value(a):\n",
    "    print(id(a))\n",
    "    print(type(a))\n",
    "    "
   ]
  },
  {
   "cell_type": "code",
   "execution_count": 49,
   "id": "d2c7d63a-7b96-41e1-bfc4-06abe00e77bc",
   "metadata": {
    "tags": []
   },
   "outputs": [
    {
     "name": "stdout",
     "output_type": "stream",
     "text": [
      "1864619228400\n",
      "<class 'numpy.ndarray'>\n"
     ]
    }
   ],
   "source": [
    "return_value(a)"
   ]
  },
  {
   "cell_type": "code",
   "execution_count": 43,
   "id": "5b61f8fa-82ef-4607-b7d2-29155e633d95",
   "metadata": {
    "tags": []
   },
   "outputs": [],
   "source": [
    "# Define two 3x3 matrices\n",
    "import numpy as np\n",
    "a = np.array([[1, 2, 3],[4, 5, 6],[7, 8, 9]])"
   ]
  },
  {
   "cell_type": "code",
   "execution_count": 44,
   "id": "b8918141-b8aa-4981-b86b-29f92b6f7c67",
   "metadata": {
    "tags": []
   },
   "outputs": [
    {
     "data": {
      "text/plain": [
       "array([[1, 2, 3],\n",
       "       [4, 5, 6],\n",
       "       [7, 8, 9]])"
      ]
     },
     "execution_count": 44,
     "metadata": {},
     "output_type": "execute_result"
    }
   ],
   "source": [
    "a"
   ]
  },
  {
   "cell_type": "code",
   "execution_count": 45,
   "id": "2443e2e7-8eff-4302-98e7-2c404bb3a48e",
   "metadata": {
    "tags": []
   },
   "outputs": [],
   "source": [
    "b = a"
   ]
  },
  {
   "cell_type": "code",
   "execution_count": 47,
   "id": "5b09e403-473d-4464-9da6-a326a7b5414c",
   "metadata": {
    "tags": []
   },
   "outputs": [
    {
     "data": {
      "text/plain": [
       "array([[ 2,  4,  6],\n",
       "       [ 8, 10, 12],\n",
       "       [14, 16, 18]])"
      ]
     },
     "execution_count": 47,
     "metadata": {},
     "output_type": "execute_result"
    }
   ],
   "source": [
    "b * 2"
   ]
  },
  {
   "cell_type": "code",
   "execution_count": null,
   "id": "50c0cba1-9325-4c89-834a-3c431a17649f",
   "metadata": {
    "tags": []
   },
   "outputs": [],
   "source": []
  },
  {
   "cell_type": "code",
   "execution_count": null,
   "id": "a66003c5-8258-4855-8c88-385a89db4c2a",
   "metadata": {},
   "outputs": [],
   "source": []
  }
 ],
 "metadata": {
  "kernelspec": {
   "display_name": "Python 3 (ipykernel)",
   "language": "python",
   "name": "python3"
  },
  "language_info": {
   "codemirror_mode": {
    "name": "ipython",
    "version": 3
   },
   "file_extension": ".py",
   "mimetype": "text/x-python",
   "name": "python",
   "nbconvert_exporter": "python",
   "pygments_lexer": "ipython3",
   "version": "3.11.4"
  }
 },
 "nbformat": 4,
 "nbformat_minor": 5
}
