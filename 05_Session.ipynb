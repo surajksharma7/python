{
 "cells": [
  {
   "cell_type": "code",
   "execution_count": 5,
   "id": "fbda2547-ce9e-4b3b-ab22-1c9aeb43e209",
   "metadata": {
    "tags": []
   },
   "outputs": [
    {
     "name": "stdout",
     "output_type": "stream",
     "text": [
      "<class 'dict'>\n"
     ]
    }
   ],
   "source": [
    "# empty Dictionary \n",
    "dict0 = {}\n",
    "print(dict)"
   ]
  },
  {
   "cell_type": "code",
   "execution_count": 7,
   "id": "615956a5-555d-4608-9ef2-9f53d935b95c",
   "metadata": {
    "tags": []
   },
   "outputs": [
    {
     "name": "stdout",
     "output_type": "stream",
     "text": [
      "{'name': 'suraj', 'age': '19', 'gender': 'male'}\n"
     ]
    }
   ],
   "source": [
    "# 1 D dictionary \n",
    "dict1 = {\n",
    "    \"name\" : \"suraj\",\n",
    "    \"age\" : \"19\",\n",
    "    \"gender\" : \"male\"\n",
    "}\n",
    "print(dict1)"
   ]
  },
  {
   "cell_type": "code",
   "execution_count": 8,
   "id": "7b99c907-fdf3-4081-85d8-506ed5ec9804",
   "metadata": {},
   "outputs": [],
   "source": [
    "# with mixed keys \n"
   ]
  },
  {
   "cell_type": "code",
   "execution_count": 9,
   "id": "a3f600bd-b452-4c95-bb9a-59f63aea2b3e",
   "metadata": {
    "tags": []
   },
   "outputs": [],
   "source": [
    "# 2d dictionary "
   ]
  },
  {
   "cell_type": "code",
   "execution_count": 10,
   "id": "80386cf7-a1f4-4f60-9336-624870ea800b",
   "metadata": {
    "tags": []
   },
   "outputs": [],
   "source": [
    "# using sequence and dict function "
   ]
  },
  {
   "cell_type": "code",
   "execution_count": 11,
   "id": "30872f20-7610-4ada-ae23-82549daf75e4",
   "metadata": {
    "tags": []
   },
   "outputs": [],
   "source": [
    "# duplicate key"
   ]
  },
  {
   "cell_type": "code",
   "execution_count": 12,
   "id": "ef325865-84fd-4f38-a000-fe1e29c2ed59",
   "metadata": {
    "tags": []
   },
   "outputs": [],
   "source": [
    "# mutable items as a key"
   ]
  },
  {
   "cell_type": "code",
   "execution_count": 1,
   "id": "28835839-5ad2-44cd-931c-d150793ac28d",
   "metadata": {},
   "outputs": [
    {
     "ename": "NameError",
     "evalue": "name 'a' is not defined",
     "output_type": "error",
     "traceback": [
      "\u001b[1;31m---------------------------------------------------------------------------\u001b[0m",
      "\u001b[1;31mNameError\u001b[0m                                 Traceback (most recent call last)",
      "Cell \u001b[1;32mIn[1], line 5\u001b[0m\n\u001b[0;32m      2\u001b[0m \u001b[38;5;28;01mdef\u001b[39;00m \u001b[38;5;21mfunct\u001b[39m(mass,acc):\n\u001b[0;32m      3\u001b[0m     \u001b[38;5;28;01mreturn\u001b[39;00m a\u001b[38;5;241m*\u001b[39mb\n\u001b[1;32m----> 5\u001b[0m force \u001b[38;5;241m=\u001b[39m funct(\u001b[38;5;241m40\u001b[39m,\u001b[38;5;241m10\u001b[39m)\n\u001b[0;32m      6\u001b[0m \u001b[38;5;28mprint\u001b[39m(force)\n",
      "Cell \u001b[1;32mIn[1], line 3\u001b[0m, in \u001b[0;36mfunct\u001b[1;34m(mass, acc)\u001b[0m\n\u001b[0;32m      2\u001b[0m \u001b[38;5;28;01mdef\u001b[39;00m \u001b[38;5;21mfunct\u001b[39m(mass,acc):\n\u001b[1;32m----> 3\u001b[0m     \u001b[38;5;28;01mreturn\u001b[39;00m a\u001b[38;5;241m*\u001b[39mb\n",
      "\u001b[1;31mNameError\u001b[0m: name 'a' is not defined"
     ]
    }
   ],
   "source": [
    "# mass and accrerlation and return its accerelation \n",
    "def funct(mass,acc):\n",
    "    return *b\n",
    "\n",
    "force = funct(40,10)\n",
    "print(force)"
   ]
  },
  {
   "cell_type": "code",
   "execution_count": null,
   "id": "4ce75801-8880-4161-8461-fdd9781407ea",
   "metadata": {},
   "outputs": [],
   "source": []
  }
 ],
 "metadata": {
  "kernelspec": {
   "display_name": "Python 3 (ipykernel)",
   "language": "python",
   "name": "python3"
  },
  "language_info": {
   "codemirror_mode": {
    "name": "ipython",
    "version": 3
   },
   "file_extension": ".py",
   "mimetype": "text/x-python",
   "name": "python",
   "nbconvert_exporter": "python",
   "pygments_lexer": "ipython3",
   "version": "3.11.4"
  }
 },
 "nbformat": 4,
 "nbformat_minor": 5
}
