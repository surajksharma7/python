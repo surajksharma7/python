{
 "cells": [
  {
   "cell_type": "markdown",
   "id": "4285803f-d184-42f2-bd10-7a619b49c7c7",
   "metadata": {},
   "source": [
    "#### 1. Basic Function Implementation: greet function"
   ]
  },
  {
   "cell_type": "code",
   "execution_count": 19,
   "id": "8ff95505-6866-4890-9f08-e55daabcf1a8",
   "metadata": {},
   "outputs": [
    {
     "name": "stdout",
     "output_type": "stream",
     "text": [
      "Hello Alice\n",
      "Good Morning Bob\n"
     ]
    }
   ],
   "source": [
    "def greet(name, greeting=\"Hello\"):\n",
    "    return f\"{greeting} {name}\"\n",
    "print(greet(\"Alice\"))\n",
    "print(greet(\"Bob\", \"Good Morning\"))"
   ]
  },
  {
   "cell_type": "markdown",
   "id": "59adccca-9337-4e80-b56c-bc047f546ff3",
   "metadata": {},
   "source": [
    "#### Named Arguments"
   ]
  },
  {
   "cell_type": "code",
   "execution_count": 20,
   "id": "1748de48-3f61-45b6-980a-0e9534d062cb",
   "metadata": {},
   "outputs": [
    {
     "name": "stdout",
     "output_type": "stream",
     "text": [
      "Name: John, Age: 18, City: Chicago\n",
      "Name: Emma, Age: 22, City: Los Angeles\n"
     ]
    }
   ],
   "source": [
    "def create_profile(name, city, age=18):\n",
    "    return f\"Name: {name}, Age: {age}, City: {city}\"\n",
    "    \n",
    "print(create_profile(name=\"John\", city=\"Chicago\"))              \n",
    "print(create_profile(name=\"Emma\", age=22, city=\"Los Angeles\"))"
   ]
  },
  {
   "cell_type": "markdown",
   "id": "d108ce30-bfb1-4f99-b534-57bd2d882bb6",
   "metadata": {},
   "source": [
    "#### 3. Using *args and **kwargs: sum_numbers function"
   ]
  },
  {
   "cell_type": "code",
   "execution_count": 21,
   "id": "7935fdce-a02a-4964-a906-1a56777b4ffd",
   "metadata": {},
   "outputs": [
    {
     "name": "stdout",
     "output_type": "stream",
     "text": [
      "6\n",
      "(3, {'x': 4, 'y': 5})\n"
     ]
    }
   ],
   "source": [
    "def sum_numbers(*args, **kwargs):\n",
    "    sum_args = sum(arg for arg in args if isinstance(arg, (int, float)))\n",
    "    return (sum_args, kwargs) if kwargs else sum_args\n",
    "\n",
    "print(sum_numbers(1, 2, 3))          \n",
    "print(sum_numbers(1, 2, x=4, y=5))  "
   ]
  },
  {
   "cell_type": "markdown",
   "id": "1e0b8f50-41dd-442b-819c-edf6dc649590",
   "metadata": {},
   "source": [
    "#### 4. Lambdas and Map: square_list function"
   ]
  },
  {
   "cell_type": "code",
   "execution_count": 22,
   "id": "7fa816f8-6f43-4ccb-9e38-0177b3fa75a5",
   "metadata": {},
   "outputs": [
    {
     "name": "stdout",
     "output_type": "stream",
     "text": [
      "[1, 4, 9, 16]\n"
     ]
    }
   ],
   "source": [
    "def square_list(numbers):\n",
    "    return list(map(lambda x: x**2, numbers))\n",
    "\n",
    "print(square_list([1, 2, 3, 4]))"
   ]
  },
  {
   "cell_type": "markdown",
   "id": "3bc2b921-4741-489a-ab1a-7b34adbfe3f5",
   "metadata": {},
   "source": [
    "#### 5. Filter and Lambdas: filter_odd_numbers function"
   ]
  },
  {
   "cell_type": "code",
   "execution_count": 23,
   "id": "eb5af2ab-454d-4da6-bd87-bd597a0719f5",
   "metadata": {},
   "outputs": [
    {
     "name": "stdout",
     "output_type": "stream",
     "text": [
      "[2, 4]\n"
     ]
    }
   ],
   "source": [
    "def filter_odd_numbers(numbers):\n",
    "    return list(filter(lambda x: x % 2 == 0, numbers))\n",
    "print(filter_odd_numbers([1, 2, 3, 4, 5])) "
   ]
  },
  {
   "cell_type": "markdown",
   "id": "a2ee81dd-46a0-4139-a000-c885e11ac2c3",
   "metadata": {},
   "source": [
    "#### 6. Basic List Comprehension: list comprehension for squares"
   ]
  },
  {
   "cell_type": "code",
   "execution_count": 24,
   "id": "5d92efcd-00b3-4515-a3fe-8c88d222a3b4",
   "metadata": {},
   "outputs": [
    {
     "name": "stdout",
     "output_type": "stream",
     "text": [
      "[0, 1, 4, 9, 16]\n"
     ]
    }
   ],
   "source": [
    "squares = [x**2 for x in range(5)]\n",
    "print(squares)"
   ]
  },
  {
   "cell_type": "markdown",
   "id": "269499b7-1e20-487f-aee7-03615b5dc396",
   "metadata": {},
   "source": [
    "#### 7. List Comprehension with Condition: list comprehension for even numbers"
   ]
  },
  {
   "cell_type": "code",
   "execution_count": 25,
   "id": "8fe6cb8a-e19e-4f42-a387-f3090f599637",
   "metadata": {},
   "outputs": [
    {
     "name": "stdout",
     "output_type": "stream",
     "text": [
      "[2, 4, 6, 8, 10, 12, 14, 16, 18, 20]\n"
     ]
    }
   ],
   "source": [
    "evens = [x for x in range(1, 21) if x % 2 == 0]\n",
    "print(evens)"
   ]
  },
  {
   "cell_type": "markdown",
   "id": "efa44a8e-bbec-4938-8eb0-3e170559ba9a",
   "metadata": {},
   "source": [
    "#### 8. Using os and time Modules: file_operations function"
   ]
  },
  {
   "cell_type": "code",
   "execution_count": 26,
   "id": "8f6f606d-0449-44f6-8f0e-ac018ffe7af5",
   "metadata": {},
   "outputs": [
    {
     "name": "stdout",
     "output_type": "stream",
     "text": [
      "Folder created.\n",
      "Folder deleted.\n"
     ]
    }
   ],
   "source": [
    "import os\n",
    "import time\n",
    "\n",
    "def file_operations():\n",
    "    os.makedirs(\"test_folder\", exist_ok=True)\n",
    "    print(\"Folder created.\")\n",
    "    time.sleep(3)\n",
    "    os.rmdir(\"test_folder\")\n",
    "    print(\"Folder deleted.\")\n",
    "\n",
    "file_operations()\n"
   ]
  },
  {
   "cell_type": "markdown",
   "id": "da0d6b81-8f72-4f60-9a7d-981831227752",
   "metadata": {},
   "source": [
    "#### 9. Importing Specific Functions: pause execution using renamed sleep"
   ]
  },
  {
   "cell_type": "code",
   "execution_count": 1,
   "id": "05556ed7-4bc9-47f8-8139-a6d7d405d9d6",
   "metadata": {},
   "outputs": [
    {
     "name": "stdout",
     "output_type": "stream",
     "text": [
      "Paused execution...\n"
     ]
    }
   ],
   "source": [
    "from time import sleep as pause\n",
    "\n",
    "pause(2)\n",
    "print(\"Paused execution...\") "
   ]
  },
  {
   "cell_type": "markdown",
   "id": "9ad9c4d0-a961-4369-b55b-c6102e501f6b",
   "metadata": {},
   "source": [
    "#### 10. Recursive Function: flatten_list function"
   ]
  },
  {
   "cell_type": "code",
   "execution_count": 28,
   "id": "f85111d3-95eb-44a1-b83c-0342721f7944",
   "metadata": {},
   "outputs": [
    {
     "name": "stdout",
     "output_type": "stream",
     "text": [
      "[1, 2, 3, 4, 5, 6]\n",
      "[1, 2, 3, 4, 5]\n"
     ]
    }
   ],
   "source": [
    "def flatten_list(nested_list):\n",
    "    flat_list = []\n",
    "    for item in nested_list:\n",
    "        if isinstance(item, list):\n",
    "            flat_list.extend(flatten_list(item))\n",
    "        else:\n",
    "            flat_list.append(item)\n",
    "    return flat_list\n",
    "\n",
    "# Example Usage:\n",
    "print(flatten_list([1, [2, 3], [[4, 5], 6]]))\n",
    "print(flatten_list([[1, 2], [3, [4, [5]]]]))  \n"
   ]
  },
  {
   "cell_type": "code",
   "execution_count": null,
   "id": "6d2ece69-45ab-4243-ae95-77b13d6aadd6",
   "metadata": {},
   "outputs": [],
   "source": []
  }
 ],
 "metadata": {
  "kernelspec": {
   "display_name": "Python 3 (ipykernel)",
   "language": "python",
   "name": "python3"
  },
  "language_info": {
   "codemirror_mode": {
    "name": "ipython",
    "version": 3
   },
   "file_extension": ".py",
   "mimetype": "text/x-python",
   "name": "python",
   "nbconvert_exporter": "python",
   "pygments_lexer": "ipython3",
   "version": "3.12.4"
  }
 },
 "nbformat": 4,
 "nbformat_minor": 5
}
