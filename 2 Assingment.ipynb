{
 "cells": [
  {
   "cell_type": "markdown",
   "id": "4285803f-d184-42f2-bd10-7a619b49c7c7",
   "metadata": {},
   "source": [
    "#### 1. BAsic Function Implementaions"
   ]
  },
  {
   "cell_type": "code",
   "execution_count": 5,
   "id": "8ff95505-6866-4890-9f08-e55daabcf1a8",
   "metadata": {},
   "outputs": [
    {
     "name": "stdout",
     "output_type": "stream",
     "text": [
      "Hello Alice\n",
      "Good Morning Bob\n"
     ]
    }
   ],
   "source": [
    "# 1. Basic Function Implementation: greet function\n",
    "def greet(name, greeting=\"Hello\"):\n",
    "    return f\"{greeting} {name}\"\n",
    "print(greet(\"Alice\"))\n",
    "print(greet(\"Bob\", \"Good Morning\"))"
   ]
  },
  {
   "cell_type": "markdown",
   "id": "59adccca-9337-4e80-b56c-bc047f546ff3",
   "metadata": {},
   "source": [
    "#### Named Arguments"
   ]
  },
  {
   "cell_type": "code",
   "execution_count": 6,
   "id": "1748de48-3f61-45b6-980a-0e9534d062cb",
   "metadata": {},
   "outputs": [
    {
     "name": "stdout",
     "output_type": "stream",
     "text": [
      "Name: John, Age: 18, City: Chicago\n",
      "Name: Emma, Age: 22, City: Los Angeles\n"
     ]
    }
   ],
   "source": [
    "# 2. Named Arguments: create_profile function\n",
    "def create_profile(name, city, age=18):\n",
    "    return f\"Name: {name}, Age: {age}, City: {city}\"\n",
    "\n",
    "# Example Usage:\n",
    "print(create_profile(name=\"John\", city=\"Chicago\"))               # Output: \"Name: John, Age: 18, City: Chicago\"\n",
    "print(create_profile(name=\"Emma\", age=22, city=\"Los Angeles\"))   # Output: \"Name: Emma, Age: 22, City: Los Angeles\""
   ]
  },
  {
   "cell_type": "markdown",
   "id": "1e0b8f50-41dd-442b-819c-edf6dc649590",
   "metadata": {},
   "source": [
    "#### "
   ]
  },
  {
   "cell_type": "code",
   "execution_count": 7,
   "id": "28d0fc26-3a72-4ada-9658-241033713933",
   "metadata": {},
   "outputs": [
    {
     "name": "stdout",
     "output_type": "stream",
     "text": [
      "6\n",
      "(3, {'x': 4, 'y': 5})\n"
     ]
    }
   ],
   "source": [
    "\n",
    "# 3. Using *args and **kwargs: sum_numbers function\n",
    "def sum_numbers(*args, **kwargs):\n",
    "    sum_args = sum(arg for arg in args if isinstance(arg, (int, float)))\n",
    "    return (sum_args, kwargs) if kwargs else sum_args\n",
    "\n",
    "# Example Usage:\n",
    "print(sum_numbers(1, 2, 3))                 # Output: 6\n",
    "print(sum_numbers(1, 2, x=4, y=5))          # Output: (6, {'x': 4, 'y': 5})\n"
   ]
  },
  {
   "cell_type": "code",
   "execution_count": 8,
   "id": "7fa816f8-6f43-4ccb-9e38-0177b3fa75a5",
   "metadata": {},
   "outputs": [
    {
     "name": "stdout",
     "output_type": "stream",
     "text": [
      "[1, 4, 9, 16]\n"
     ]
    }
   ],
   "source": [
    "\n",
    "# 4. Lambdas and Map: square_list function\n",
    "def square_list(numbers):\n",
    "    return list(map(lambda x: x**2, numbers))\n",
    "\n",
    "# Example Usage:\n",
    "print(square_list([1, 2, 3, 4]))  # Output: [1, 4, 9, 16]"
   ]
  },
  {
   "cell_type": "code",
   "execution_count": 10,
   "id": "eb5af2ab-454d-4da6-bd87-bd597a0719f5",
   "metadata": {},
   "outputs": [],
   "source": [
    "\n",
    "\n",
    "# 5. Filter and Lambdas: filter_odd_numbers function\n",
    "def filter_odd_numbers(numbers):\n",
    "    return list(filter(lambda x: x % 2 == 0, numbers))\n",
    "# Example Usage:\n",
    "print(filter_odd_numbers([1, 2, 3, 4, 5]))  # Output: [2, 4]"
   ]
  },
  {
   "cell_type": "code",
   "execution_count": 11,
   "id": "5d92efcd-00b3-4515-a3fe-8c88d222a3b4",
   "metadata": {},
   "outputs": [
    {
     "name": "stdout",
     "output_type": "stream",
     "text": [
      "[0, 1, 4, 9, 16]\n",
      "[2, 4, 6, 8, 10, 12, 14, 16, 18, 20]\n",
      "Folder created.\n",
      "Folder deleted.\n",
      "Paused execution...\n"
     ]
    }
   ],
   "source": [
    "\n",
    "\n",
    "# 6. Basic List Comprehension: list comprehension for squares\n",
    "squares = [x**2 for x in range(5)]\n",
    "print(squares)  # Output: [0, 1, 4, 9, 16]\n",
    "\n"
   ]
  },
  {
   "cell_type": "code",
   "execution_count": null,
   "id": "8fe6cb8a-e19e-4f42-a387-f3090f599637",
   "metadata": {},
   "outputs": [],
   "source": [
    "\n",
    "# 7. List Comprehension with Condition: list comprehension for even numbers\n",
    "evens = [x for x in range(1, 21) if x % 2 == 0]\n",
    "print(evens)  # Output: [2, 4, 6, 8, 10, 12, 14, 16, 18, 20]\n"
   ]
  },
  {
   "cell_type": "code",
   "execution_count": null,
   "id": "8f6f606d-0449-44f6-8f0e-ac018ffe7af5",
   "metadata": {},
   "outputs": [],
   "source": [
    "# 8. Using os and time Modules: file_operations function\n",
    "import os\n",
    "import time\n",
    "\n",
    "def file_operations():\n",
    "    os.makedirs(\"test_folder\", exist_ok=True)\n",
    "    print(\"Folder created.\")\n",
    "    time.sleep(3)  # Pause execution for 3 seconds\n",
    "    os.rmdir(\"test_folder\")\n",
    "    print(\"Folder deleted.\")\n",
    "\n",
    "# Example Usage:\n",
    "file_operations()  # Creates \"test_folder\", pauses for 3 seconds, and deletes it.\n"
   ]
  },
  {
   "cell_type": "code",
   "execution_count": null,
   "id": "05556ed7-4bc9-47f8-8139-a6d7d405d9d6",
   "metadata": {},
   "outputs": [],
   "source": [
    "\n",
    "# 9. Importing Specific Functions: pause execution using renamed sleep\n",
    "from time import sleep as pause\n",
    "\n",
    "pause(2)  # Pauses for 2 seconds\n",
    "print(\"Paused execution...\")  # Output: \"Paused execution...\""
   ]
  },
  {
   "cell_type": "code",
   "execution_count": null,
   "id": "f85111d3-95eb-44a1-b83c-0342721f7944",
   "metadata": {},
   "outputs": [],
   "source": [
    "# 10. Recursive Function: flatten_list function\n",
    "def flatten_list(nested_list):\n",
    "    flat_list = []\n",
    "    for item in nested_list:\n",
    "        if isinstance(item, list):\n",
    "            flat_list.extend(flatten_list(item))\n",
    "        else:\n",
    "            flat_list.append(item)\n",
    "    return flat_list\n",
    "\n",
    "# Example Usage:\n",
    "print(flatten_list([1, [2, 3], [[4, 5], 6]]))  # Output: [1, 2, 3, 4, 5, 6]\n",
    "print(flatten_list([[1, 2], [3, [4, [5]]]]))   # Output: [1, 2, 3, 4, 5]\n"
   ]
  }
 ],
 "metadata": {
  "kernelspec": {
   "display_name": "Python 3 (ipykernel)",
   "language": "python",
   "name": "python3"
  },
  "language_info": {
   "codemirror_mode": {
    "name": "ipython",
    "version": 3
   },
   "file_extension": ".py",
   "mimetype": "text/x-python",
   "name": "python",
   "nbconvert_exporter": "python",
   "pygments_lexer": "ipython3",
   "version": "3.12.4"
  }
 },
 "nbformat": 4,
 "nbformat_minor": 5
}
