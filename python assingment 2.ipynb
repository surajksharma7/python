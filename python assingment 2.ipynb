{
 "cells": [
  {
   "cell_type": "code",
   "execution_count": 3,
   "id": "7b6f4dfb",
   "metadata": {},
   "outputs": [],
   "source": [
    "def myFunction():\n",
    "    user_inputs = []\n",
    "    \n",
    "    while True:\n",
    "        val = input(\"\"\"\n",
    "        1 --> Break the loop \n",
    "        2 --> append in list \\n\"\"\")\n",
    "        \n",
    "        if val == '1':\n",
    "            print(\"Exiting loop\")\n",
    "            break\n",
    "        elif val == '2':\n",
    "            value = int(input(\"Enter a value to append: \"))\n",
    "            user_inputs.append(value)\n",
    "        else:\n",
    "            print(\"Invalid input. Please enter '1' or '2'.\")\n",
    "    \n",
    "    return user_inputs"
   ]
  },
  {
   "cell_type": "code",
   "execution_count": 4,
   "id": "7a8c44b1",
   "metadata": {},
   "outputs": [
    {
     "name": "stdout",
     "output_type": "stream",
     "text": [
      "\n",
      "        1 --> Break the loop \n",
      "        2 --> append in list \n",
      "2\n",
      "Enter a value to append: 1\n",
      "\n",
      "        1 --> Break the loop \n",
      "        2 --> append in list \n",
      "2\n",
      "Enter a value to append: 4\n",
      "\n",
      "        1 --> Break the loop \n",
      "        2 --> append in list \n",
      "2\n",
      "Enter a value to append: 434\n",
      "\n",
      "        1 --> Break the loop \n",
      "        2 --> append in list \n",
      "2\n",
      "Enter a value to append: 13\n",
      "\n",
      "        1 --> Break the loop \n",
      "        2 --> append in list \n",
      "1\n",
      "Exiting loop\n",
      "Collected values: [1, 4, 434, 13]\n"
     ]
    }
   ],
   "source": [
    "result = myFunction()\n",
    "print(\"Collected values:\", result)"
   ]
  },
  {
   "cell_type": "code",
   "execution_count": 5,
   "id": "8e5abc76",
   "metadata": {},
   "outputs": [],
   "source": [
    "def myFunction2(value):\n",
    "    \n",
    "    # priting minimum value \n",
    "    min_value = min(value)\n",
    "    \n",
    "    # printing maximum value \n",
    "    max_value = max(value)\n",
    "    # program to print cummulative sum\n",
    "    \n",
    "    add = 0\n",
    "    count  = 1\n",
    "    cum_sum = []\n",
    "    for i in value:\n",
    "        add = add+i\n",
    "        cum_sum.append(add)\n",
    "        count +=1\n",
    "    \n",
    "    \n",
    "    # to find the average of the value \n",
    "    average = add / count\n",
    "    return min_value , max_value , cum_sum , average\n",
    "    "
   ]
  },
  {
   "cell_type": "code",
   "execution_count": 6,
   "id": "26c5f58a",
   "metadata": {},
   "outputs": [],
   "source": [
    "a = myFunction2(result)"
   ]
  },
  {
   "cell_type": "code",
   "execution_count": 7,
   "id": "da95c6f6",
   "metadata": {},
   "outputs": [
    {
     "name": "stdout",
     "output_type": "stream",
     "text": [
      "(1, 434, [1, 5, 439, 452], 90.4)\n"
     ]
    }
   ],
   "source": [
    "print(a)"
   ]
  },
  {
   "cell_type": "code",
   "execution_count": null,
   "id": "ab466d74",
   "metadata": {},
   "outputs": [],
   "source": []
  }
 ],
 "metadata": {
  "kernelspec": {
   "display_name": "Python 3 (ipykernel)",
   "language": "python",
   "name": "python3"
  },
  "language_info": {
   "codemirror_mode": {
    "name": "ipython",
    "version": 3
   },
   "file_extension": ".py",
   "mimetype": "text/x-python",
   "name": "python",
   "nbconvert_exporter": "python",
   "pygments_lexer": "ipython3",
   "version": "3.11.4"
  }
 },
 "nbformat": 4,
 "nbformat_minor": 5
}
