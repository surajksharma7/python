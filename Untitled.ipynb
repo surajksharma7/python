{
 "cells": [
  {
   "cell_type": "code",
   "execution_count": 1,
   "id": "28cb0a79-20e2-4e20-97f6-7d8fc59c27e8",
   "metadata": {},
   "outputs": [],
   "source": [
    "def square(X):\n",
    "    return X*X"
   ]
  },
  {
   "cell_type": "code",
   "execution_count": 2,
   "id": "6d3db337-856b-486c-abfb-67bebe3a846f",
   "metadata": {},
   "outputs": [],
   "source": [
    "f = square(5)"
   ]
  },
  {
   "cell_type": "code",
   "execution_count": 4,
   "id": "ac4697f0-f468-464c-85e0-891db54e6a09",
   "metadata": {},
   "outputs": [
    {
     "name": "stdout",
     "output_type": "stream",
     "text": [
      "25\n"
     ]
    }
   ],
   "source": [
    "print(f)"
   ]
  },
  {
   "cell_type": "code",
   "execution_count": 11,
   "id": "cfe7217e-1206-41a2-ae0e-243188c95203",
   "metadata": {},
   "outputs": [],
   "source": [
    "def apply_function(func, value):\n",
    "    return func(value)"
   ]
  },
  {
   "cell_type": "code",
   "execution_count": 12,
   "id": "8f83aaf4-8202-46f7-b97d-98f3b6d60928",
   "metadata": {},
   "outputs": [],
   "source": [
    "a = apply_function(square, 5)"
   ]
  },
  {
   "cell_type": "code",
   "execution_count": 13,
   "id": "c98688b0-c424-46bb-966b-1226891b4c6c",
   "metadata": {},
   "outputs": [
    {
     "name": "stdout",
     "output_type": "stream",
     "text": [
      "25\n"
     ]
    }
   ],
   "source": [
    "print(a)"
   ]
  },
  {
   "cell_type": "code",
   "execution_count": null,
   "id": "774b4226-a7eb-4114-b2db-e7bcef896f1e",
   "metadata": {},
   "outputs": [],
   "source": []
  },
  {
   "cell_type": "code",
   "execution_count": null,
   "id": "4e57e6de-2d9d-443c-944a-cee21e7a17f6",
   "metadata": {},
   "outputs": [],
   "source": []
  }
 ],
 "metadata": {
  "kernelspec": {
   "display_name": "Python 3 (ipykernel)",
   "language": "python",
   "name": "python3"
  },
  "language_info": {
   "codemirror_mode": {
    "name": "ipython",
    "version": 3
   },
   "file_extension": ".py",
   "mimetype": "text/x-python",
   "name": "python",
   "nbconvert_exporter": "python",
   "pygments_lexer": "ipython3",
   "version": "3.11.4"
  }
 },
 "nbformat": 4,
 "nbformat_minor": 5
}
