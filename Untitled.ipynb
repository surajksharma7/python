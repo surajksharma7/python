{
 "cells": [
  {
   "cell_type": "code",
   "execution_count": 9,
   "id": "f93607c4-36da-41a9-b7ef-b33f5d72fd10",
   "metadata": {},
   "outputs": [
    {
     "name": "stdout",
     "output_type": "stream",
     "text": [
      "process done\n"
     ]
    }
   ],
   "source": [
    "import pickle\n",
    "\n",
    "my_list = ['apple', 'banana', 'cherry']\n",
    "\n",
    "try:\n",
    "    with open('day30sept.pkl', 'wb') as file:\n",
    "        pickle.dump(my_list, file)\n",
    "    print(\"process done\")\n",
    "except:\n",
    "    print(\"could not import this file to list \")"
   ]
  },
  {
   "cell_type": "code",
   "execution_count": 12,
   "id": "b7b21463-c243-49cf-90d6-4b16048cc17d",
   "metadata": {},
   "outputs": [
    {
     "name": "stdout",
     "output_type": "stream",
     "text": [
      "['apple', 'banana', 'cherry']\n"
     ]
    }
   ],
   "source": [
    "import pickle\n",
    "with open('day30.pkl', 'rb') as file:\n",
    "    loaded_list = pickle.load(file)\n",
    "print(loaded_list)"
   ]
  },
  {
   "cell_type": "code",
   "execution_count": null,
   "id": "7f926006-5a1f-4a58-aefb-bad9be14d4f0",
   "metadata": {},
   "outputs": [],
   "source": []
  }
 ],
 "metadata": {
  "kernelspec": {
   "display_name": "Python 3 (ipykernel)",
   "language": "python",
   "name": "python3"
  },
  "language_info": {
   "codemirror_mode": {
    "name": "ipython",
    "version": 3
   },
   "file_extension": ".py",
   "mimetype": "text/x-python",
   "name": "python",
   "nbconvert_exporter": "python",
   "pygments_lexer": "ipython3",
   "version": "3.12.4"
  }
 },
 "nbformat": 4,
 "nbformat_minor": 5
}
