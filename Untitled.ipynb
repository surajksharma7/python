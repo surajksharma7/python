{
 "cells": [
  {
   "cell_type": "code",
   "execution_count": 7,
   "id": "61e5ebf2-d9b1-4afa-9b63-f85699e851f3",
   "metadata": {
    "tags": []
   },
   "outputs": [
    {
     "ename": "ModuleNotFoundError",
     "evalue": "No module named 'library'",
     "output_type": "error",
     "traceback": [
      "\u001b[1;31m---------------------------------------------------------------------------\u001b[0m",
      "\u001b[1;31mModuleNotFoundError\u001b[0m                       Traceback (most recent call last)",
      "Cell \u001b[1;32mIn[7], line 3\u001b[0m\n\u001b[0;32m      1\u001b[0m \u001b[38;5;66;03m# D:\\Learning\\python\\example_usage.py\u001b[39;00m\n\u001b[1;32m----> 3\u001b[0m \u001b[38;5;28;01mfrom\u001b[39;00m \u001b[38;5;21;01mlibrary\u001b[39;00m \u001b[38;5;28;01mimport\u001b[39;00m add\n",
      "\u001b[1;31mModuleNotFoundError\u001b[0m: No module named 'library'"
     ]
    }
   ],
   "source": [
    "# D:\\Learning\\python\\example_usage.py\n",
    "\n",
    "from library import add"
   ]
  },
  {
   "cell_type": "code",
   "execution_count": 17,
   "id": "6b0a01d1-7a09-46f3-8903-c668b789d21e",
   "metadata": {
    "tags": []
   },
   "outputs": [
    {
     "name": "stdout",
     "output_type": "stream",
     "text": [
      "Addition: 8\n",
      "Subtraction: 2\n",
      "Uppercase: HELLO\n",
      "Lowercase: world\n"
     ]
    }
   ],
   "source": [
    "# Using math operations\n",
    "print(\"Addition:\", add(5, 3))            # Output: 8\n",
    "print(\"Subtraction:\", subtract(5, 3))    # Output: 2\n",
    "\n",
    "# Using string operations\n",
    "print(\"Uppercase:\", to_uppercase(\"hello\"))  # Output: HELLO\n",
    "print(\"Lowercase:\", to_lowercase(\"WORLD\"))  # Output: world"
   ]
  },
  {
   "cell_type": "code",
   "execution_count": 14,
   "id": "6e54d349-9427-4d92-bd2b-90a3aab37ff4",
   "metadata": {
    "tags": []
   },
   "outputs": [],
   "source": [
    "import engin"
   ]
  },
  {
   "cell_type": "code",
   "execution_count": 18,
   "id": "0e5d4180-9874-4b52-a281-4ace3761eb2d",
   "metadata": {
    "tags": []
   },
   "outputs": [
    {
     "name": "stdout",
     "output_type": "stream",
     "text": [
      "Note: you may need to restart the kernel to use updated packages.\n"
     ]
    },
    {
     "name": "stderr",
     "output_type": "stream",
     "text": [
      "WARNING: Skipping mylibrary as it is not installed.\n"
     ]
    }
   ],
   "source": []
  },
  {
   "cell_type": "code",
   "execution_count": 3,
   "id": "ee62b185-665b-4078-90bc-1d22ea678fb7",
   "metadata": {},
   "outputs": [],
   "source": [
    "def form(mass ,accerelation ):\n",
    "    return mass * accerelation"
   ]
  },
  {
   "cell_type": "code",
   "execution_count": 4,
   "id": "2d91fd47-91a1-4f08-bca2-81e1b86929e9",
   "metadata": {
    "tags": []
   },
   "outputs": [],
   "source": [
    "force = form(50,10)"
   ]
  },
  {
   "cell_type": "code",
   "execution_count": 5,
   "id": "08c8595e-18b3-48df-8d6f-05eb04a67839",
   "metadata": {
    "tags": []
   },
   "outputs": [
    {
     "name": "stdout",
     "output_type": "stream",
     "text": [
      "500\n"
     ]
    }
   ],
   "source": [
    "print(force)"
   ]
  },
  {
   "cell_type": "code",
   "execution_count": 17,
   "id": "cdd37139-a390-431d-bd69-8e2134aee93e",
   "metadata": {
    "tags": []
   },
   "outputs": [],
   "source": [
    "from engin import add"
   ]
  },
  {
   "cell_type": "code",
   "execution_count": 19,
   "id": "55663727-32ad-4dd5-80f6-d8261e009305",
   "metadata": {
    "tags": []
   },
   "outputs": [],
   "source": [
    "a = add(5,4)"
   ]
  },
  {
   "cell_type": "code",
   "execution_count": 20,
   "id": "7a062aa0-d45f-4a07-a4b9-fd66c92a20cf",
   "metadata": {
    "tags": []
   },
   "outputs": [
    {
     "name": "stdout",
     "output_type": "stream",
     "text": [
      "9\n"
     ]
    }
   ],
   "source": [
    "print(a)"
   ]
  },
  {
   "cell_type": "code",
   "execution_count": null,
   "id": "358abcc2-80e3-4236-90b6-78c7ed67f19c",
   "metadata": {},
   "outputs": [],
   "source": []
  }
 ],
 "metadata": {
  "kernelspec": {
   "display_name": "Python 3 (ipykernel)",
   "language": "python",
   "name": "python3"
  },
  "language_info": {
   "codemirror_mode": {
    "name": "ipython",
    "version": 3
   },
   "file_extension": ".py",
   "mimetype": "text/x-python",
   "name": "python",
   "nbconvert_exporter": "python",
   "pygments_lexer": "ipython3",
   "version": "3.11.4"
  }
 },
 "nbformat": 4,
 "nbformat_minor": 5
}
