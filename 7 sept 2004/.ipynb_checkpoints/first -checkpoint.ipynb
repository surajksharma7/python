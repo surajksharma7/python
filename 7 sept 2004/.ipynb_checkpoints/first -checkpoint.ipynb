{
 "cells": [
  {
   "cell_type": "markdown",
   "id": "8cf17ea8-48f8-4666-ab9a-386ca83f3677",
   "metadata": {},
   "source": [
    "Write a program \n",
    "Given data 1,2 of points x and y coordinates are given as follow points are (1,2) \n",
    "(1,3)\n",
    "(2,4)\n",
    "(5,7)\n",
    "Given \n",
    "Write func. to estimate distance between two points \n",
    "write function position of point in polaar coordinate.\n",
    "A function to move point when displacement is given."
   ]
  },
  {
   "cell_type": "code",
   "execution_count": 17,
   "id": "9c0f0354-d0e9-4b88-b391-ac6daf1f4e52",
   "metadata": {},
   "outputs": [],
   "source": [
    "def myCoordinate(cord1,cord2):\n",
    "    X = (cord2[0]**2) - (cord1[0]**2)\n",
    "    Y = (cord2[1]**2) - (cord1[1]**2)\n",
    "    result = (X+Y)**0.5\n",
    "    return result "
   ]
  },
  {
   "cell_type": "code",
   "execution_count": 24,
   "id": "49619932-b411-419e-ad45-a3d22a8889ee",
   "metadata": {},
   "outputs": [
    {
     "name": "stdout",
     "output_type": "stream",
     "text": [
      "0 5\n",
      "The distance between points (1, 2) and (1, 3) is: 2.23606797749979\n"
     ]
    }
   ],
   "source": [
    "point1 = (1, 2)\n",
    "point2 = (1, 3)\n",
    "result = myCoordinate(point1, point2)\n",
    "print(f\"The distance between points {point1} and {point2} is: {result}\")"
   ]
  },
  {
   "cell_type": "code",
   "execution_count": 25,
   "id": "030a8796-9051-4562-87b4-c3f0f39c3428",
   "metadata": {},
   "outputs": [
    {
     "name": "stdout",
     "output_type": "stream",
     "text": [
      "-1 -4\n",
      "The distance between points (1, 2) and (0, 0) is: (1.3691967456605067e-16+2.23606797749979j)\n"
     ]
    }
   ],
   "source": [
    "point1 = (1, 2)\n",
    "point2 = (0,0)\n",
    "result = myCoordinate(point1, point2)\n",
    "print(f\"The distance between points {point1} and {point2} is: {result}\")"
   ]
  },
  {
   "cell_type": "code",
   "execution_count": 33,
   "id": "9328b989-d8eb-464f-af24-d2f39c3a6408",
   "metadata": {},
   "outputs": [],
   "source": [
    "import math\n",
    "def cartesianToPolar(point):\n",
    "    r = math.sqrt(point[0] ** 2 + point[1] ** 2)\n",
    "    degree = math.atan2(point[0],point[1])\n",
    "    return degree"
   ]
  },
  {
   "cell_type": "code",
   "execution_count": 34,
   "id": "06ca2af1-d403-4203-b44c-68bd1d493930",
   "metadata": {},
   "outputs": [
    {
     "data": {
      "text/plain": [
       "0.4636476090008061"
      ]
     },
     "execution_count": 34,
     "metadata": {},
     "output_type": "execute_result"
    }
   ],
   "source": [
    "cartesianToPolar(point1)"
   ]
  },
  {
   "cell_type": "code",
   "execution_count": 35,
   "id": "7c21b31f-2620-48aa-b601-5feb1caaf685",
   "metadata": {},
   "outputs": [],
   "source": [
    "def move_point(x, y, dx, dy):\n",
    "    x_new = x + dx\n",
    "    y_new = y + dy\n",
    "    return x_new, y_new"
   ]
  },
  {
   "cell_type": "code",
   "execution_count": 36,
   "id": "db60b9c1-0fb5-469e-a173-98594bacbfd7",
   "metadata": {},
   "outputs": [
    {
     "name": "stdout",
     "output_type": "stream",
     "text": [
      "New coordinates: (5, 9)\n"
     ]
    }
   ],
   "source": [
    "# Example usage:\n",
    "x = 3\n",
    "y = 4\n",
    "displacement_x = 2\n",
    "displacement_y = 5\n",
    "\n",
    "new_x, new_y = move_point(x,y, displacement_x, displacement_y)\n",
    "print(f\"New coordinates: ({new_x}, {new_y})\")\n"
   ]
  },
  {
   "cell_type": "code",
   "execution_count": null,
   "id": "c1acdf10-7e6c-4a89-b16c-1fc29fabee7c",
   "metadata": {},
   "outputs": [],
   "source": []
  }
 ],
 "metadata": {
  "kernelspec": {
   "display_name": "Python 3 (ipykernel)",
   "language": "python",
   "name": "python3"
  },
  "language_info": {
   "codemirror_mode": {
    "name": "ipython",
    "version": 3
   },
   "file_extension": ".py",
   "mimetype": "text/x-python",
   "name": "python",
   "nbconvert_exporter": "python",
   "pygments_lexer": "ipython3",
   "version": "3.12.4"
  }
 },
 "nbformat": 4,
 "nbformat_minor": 5
}
