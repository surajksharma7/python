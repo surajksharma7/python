{
 "cells": [
  {
   "cell_type": "markdown",
   "id": "c65db055-cef3-4c52-99d2-86dbf2fc8aeb",
   "metadata": {},
   "source": [
    "# Introduction to python and basic syntax"
   ]
  },
  {
   "cell_type": "markdown",
   "id": "56ef7ab3-b159-48c1-b82f-9c5eaaa2916c",
   "metadata": {},
   "source": [
    "## Part 1: Introducton to python"
   ]
  },
  {
   "cell_type": "markdown",
   "id": "aef72682-795c-46cc-9559-c342327dec53",
   "metadata": {},
   "source": [
    "### 1 Python Installation and Execution"
   ]
  },
  {
   "cell_type": "markdown",
   "id": "1e03c35b-d5ac-4a5a-ae4f-a3ff26e7c564",
   "metadata": {},
   "source": [
    "#### write a python script that prints your name , course and the python version you are using"
   ]
  },
  {
   "cell_type": "markdown",
   "id": "3afb4a5a-cbb3-449b-b746-56b84f1c5c8c",
   "metadata": {
    "tags": []
   },
   "source": [
    "![Sample Image](01_output.png)"
   ]
  },
  {
   "cell_type": "markdown",
   "id": "ee5d5887-214f-4ed8-bb50-187232387a17",
   "metadata": {},
   "source": [
    "#### Execute the script from the command line and include a screenshot of the output"
   ]
  },
  {
   "cell_type": "markdown",
   "id": "519144bc-8bbe-42c0-9b97-da9d1da3960b",
   "metadata": {},
   "source": [
    "![Sample Image](02_output.png)"
   ]
  },
  {
   "cell_type": "markdown",
   "id": "c3f326a6-3981-44fd-b32b-77cd7f40a863",
   "metadata": {},
   "source": [
    "### 1. Using IDLE"
   ]
  },
  {
   "cell_type": "markdown",
   "id": "2306e519-41e9-457e-b301-ee126ee15b63",
   "metadata": {},
   "source": [
    "#### Open IDLE and write a python scripts that prints \"Hello, Python World!\".Save the script as hello.py and execute it using IDLE"
   ]
  },
  {
   "cell_type": "code",
   "execution_count": 33,
   "id": "1287216e-7aef-49c3-956a-fc5c2708b618",
   "metadata": {},
   "outputs": [
    {
     "name": "stdout",
     "output_type": "stream",
     "text": [
      "Hello, Python World!\n"
     ]
    }
   ],
   "source": [
    "print(\"Hello, Python World!\")"
   ]
  },
  {
   "cell_type": "markdown",
   "id": "5d70c0d7-d4ed-48af-9f9f-03d38337e39b",
   "metadata": {
    "tags": []
   },
   "source": [
    "## 2. Basic Python Syntax"
   ]
  },
  {
   "cell_type": "markdown",
   "id": "d10bb974-fc08-4fc2-98d8-b8b95b70db3c",
   "metadata": {},
   "source": [
    "### string Operations"
   ]
  },
  {
   "cell_type": "markdown",
   "id": "d32828e8-fdbd-4fc0-a98d-2144e234f9c7",
   "metadata": {
    "tags": []
   },
   "source": [
    "#### write a python program that takes user input first  name and last name and print them in reverse order with space between them "
   ]
  },
  {
   "cell_type": "code",
   "execution_count": 35,
   "id": "6c6720bb",
   "metadata": {
    "tags": []
   },
   "outputs": [
    {
     "name": "stdout",
     "output_type": "stream",
     "text": [
      "enter your first name and last name suraj kumar\n",
      "your name in reverse order is  kumar  suraj\n",
      "Name in reverse order  ramuk jarus\n"
     ]
    }
   ],
   "source": [
    "# taking user input for first name and last name \n",
    "first_name,last_name = map(str,input(\"enter your first name and last name \").split())\n",
    "\n",
    "# printing name is reverse order \n",
    "print(\"your name in reverse order is \",last_name,\"\" ,first_name)\n",
    "name = first_name +\" \" + last_name\n",
    "print(\"Name in reverse order \",name[::-1])"
   ]
  },
  {
   "cell_type": "markdown",
   "id": "349ae6f0",
   "metadata": {},
   "source": [
    "#### USe at least two string methods and explain their purpose in the comments"
   ]
  },
  {
   "cell_type": "code",
   "execution_count": 36,
   "id": "d0cb8006-e349-4b36-a1fa-9592c713f8b4",
   "metadata": {
    "tags": []
   },
   "outputs": [
    {
     "data": {
      "text/plain": [
       "5"
      ]
     },
     "execution_count": 36,
     "metadata": {},
     "output_type": "execute_result"
    }
   ],
   "source": [
    "a = 'scfswadh beh ehvmhje chj wopgjw;mepvjwpm[muy3[mc[,wt5kv[0wmyu'\n",
    "a.find('a')"
   ]
  },
  {
   "cell_type": "markdown",
   "id": "6e952934",
   "metadata": {},
   "source": [
    "this returns the inex position > used in findind specific value from a long weather it contains a specific word or not "
   ]
  },
  {
   "cell_type": "code",
   "execution_count": 37,
   "id": "d454923a-ed1b-48c8-ac37-b40af4030034",
   "metadata": {
    "tags": []
   },
   "outputs": [
    {
     "data": {
      "text/plain": [
       "0"
      ]
     },
     "execution_count": 37,
     "metadata": {},
     "output_type": "execute_result"
    }
   ],
   "source": [
    "# count \n",
    "a = 'emuvjyp w5nvj wpmwptu aclhntpvhwmp;n'\n",
    "a.count('s') "
   ]
  },
  {
   "cell_type": "markdown",
   "id": "1fdd4ce6",
   "metadata": {},
   "source": [
    "this count total occurance of a specific value "
   ]
  },
  {
   "cell_type": "markdown",
   "id": "f256a279-23ea-497f-877c-d37bb713a05d",
   "metadata": {},
   "source": [
    "### Numeric Data Types and conversion Functions"
   ]
  },
  {
   "cell_type": "markdown",
   "id": "df3e2ba9",
   "metadata": {
    "tags": []
   },
   "source": [
    "#### Write a python program that takes an input number from the user, converts it into different numeric datatypes (Integer,float,and complex) and display the converted value"
   ]
  },
  {
   "cell_type": "code",
   "execution_count": 39,
   "id": "1b52c663-bfce-44ec-9516-6d2a1e21daac",
   "metadata": {
    "tags": []
   },
   "outputs": [
    {
     "name": "stdout",
     "output_type": "stream",
     "text": [
      "enter value20\n",
      "enter value10\n",
      "By default input is string in python 2010\n"
     ]
    }
   ],
   "source": [
    "num1 = input(\"enter value\")\n",
    "num2 = input(\"enter value\")\n",
    "\n",
    "add = num1+num2\n",
    "print(\"By default input is string in python\",add)"
   ]
  },
  {
   "cell_type": "code",
   "execution_count": 40,
   "id": "6d68e0a2-3f0c-4c31-be7b-a81a93290862",
   "metadata": {
    "tags": []
   },
   "outputs": [
    {
     "name": "stdout",
     "output_type": "stream",
     "text": [
      "30\n"
     ]
    }
   ],
   "source": [
    "# we can change string to other using type conversion\n",
    "num1 = int(num1)\n",
    "num2 = int(num2)\n",
    "\n",
    "add = num1+num2\n",
    "print(add)"
   ]
  },
  {
   "cell_type": "code",
   "execution_count": 41,
   "id": "bbc245be-9e0d-4a9f-8a4a-d08dbd8d8e03",
   "metadata": {
    "tags": []
   },
   "outputs": [],
   "source": [
    "# integer - values having no floating value in it . ex - 5 , 10 , 1e308\n",
    "# float - values having a real value and its decimal value. ex - 5.5,6.7,1.7e308\n",
    "# complex  - values having real part and imaginary part. ex -> 5+6j"
   ]
  },
  {
   "cell_type": "markdown",
   "id": "1718769d-cbd8-4c03-b2b0-ec47f5b09af3",
   "metadata": {
    "tags": []
   },
   "source": [
    "### 3 simple input and output"
   ]
  },
  {
   "cell_type": "markdown",
   "id": "2ede42bb",
   "metadata": {},
   "source": [
    "#### Create a python scripts that calculates the area of a rectangle. The script should : prompt the user to enter the length and width of the rectangle . calculate the area . Display the result using thr print function"
   ]
  },
  {
   "cell_type": "code",
   "execution_count": 42,
   "id": "321347a9-0c1c-49b8-a63f-1cf91ccbba66",
   "metadata": {
    "tags": []
   },
   "outputs": [
    {
     "name": "stdout",
     "output_type": "stream",
     "text": [
      "Enter lenght of rectangle :10\n",
      "Enter bredth of rectangle :20\n",
      "Area of the rectangle is :200\n"
     ]
    }
   ],
   "source": [
    "leng = int(input(\"Enter lenght of rectangle :\"))\n",
    "bred = int(input(\"Enter bredth of rectangle :\"))\n",
    "\n",
    "# calculate area \n",
    "area = leng * bred \n",
    "\n",
    "# printing area \n",
    "print(f\"Area of the rectangle is :{area}\")"
   ]
  },
  {
   "cell_type": "markdown",
   "id": "23c29f8f",
   "metadata": {},
   "source": [
    "### Using format method"
   ]
  },
  {
   "cell_type": "markdown",
   "id": "98751a99",
   "metadata": {},
   "source": [
    "#### Modify the rectangle area program to format the output so that it display the area with two decimal places "
   ]
  },
  {
   "cell_type": "code",
   "execution_count": 43,
   "id": "73a9889b-a67a-4ad5-baa4-09a729bbc7a1",
   "metadata": {
    "tags": []
   },
   "outputs": [
    {
     "name": "stdout",
     "output_type": "stream",
     "text": [
      "Enter lenght of rectangle :01\n",
      "Enter bredth of rectangle :20\n",
      "Area of the rectangle is 20.00 \n"
     ]
    }
   ],
   "source": [
    "# take user input for length and bredth\n",
    "leng = int(input(\"Enter lenght of rectangle :\"))\n",
    "bred = int(input(\"Enter bredth of rectangle :\"))\n",
    "\n",
    "# calculate area \n",
    "area = leng * bred \n",
    "\n",
    "# printing area \n",
    "print(\"Area of the rectangle is {:.2f} \".format(area))"
   ]
  },
  {
   "cell_type": "code",
   "execution_count": 47,
   "id": "080751c7-05c9-4e6e-bc9c-58e84d3f718f",
   "metadata": {
    "tags": []
   },
   "outputs": [
    {
     "name": "stdout",
     "output_type": "stream",
     "text": [
      "Enter three numbers4 5 6 \n",
      "The avg 4 5 6 of three numbers are  5.00\n"
     ]
    }
   ],
   "source": [
    "num1 , num2 ,num3 = map(int,input(\"Enter three numbers\").split())\n",
    "avg = (num1 + num2 + num3)/3\n",
    "formatted_string = f\"The avg {num1} {num2} {num3} of three numbers are  %.2f\" % avg\n",
    "print(formatted_string)"
   ]
  },
  {
   "cell_type": "markdown",
   "id": "44ec32e6",
   "metadata": {},
   "source": [
    "### Langauge Compnents"
   ]
  },
  {
   "cell_type": "markdown",
   "id": "d11ed584",
   "metadata": {},
   "source": [
    "#### Write a python program that asks the user for a number and determines wheather it is positive, negative or zero. Implement a loop that continues to ask user for a number until they enter exit . use break to exit the loop and continue to prompt for a new number if the input is not exit"
   ]
  },
  {
   "cell_type": "code",
   "execution_count": 27,
   "id": "d8c661db",
   "metadata": {},
   "outputs": [
    {
     "name": "stdout",
     "output_type": "stream",
     "text": [
      "Enter a number to check or type 'exit' to quit: 5.5\n",
      "Number is positive\n",
      "Enter a number to check or type 'exit' to quit: 565\n",
      "Number is positive\n",
      "Enter a number to check or type 'exit' to quit: exit\n",
      "Exiting the program.\n"
     ]
    }
   ],
   "source": [
    "while True:\n",
    "    user_input = input(\"Enter a number to check or type 'exit' to quit: \")\n",
    "\n",
    "    if user_input.lower() == 'exit':\n",
    "        print(\"Exiting the program.\")\n",
    "        break\n",
    "\n",
    "    try:\n",
    "        num = float(user_input)  # Convert input to a float to handle both integer and floating-point numbers\n",
    "    except ValueError:\n",
    "        print(\"Invalid input. Please enter a valid number or 'exit'.\")\n",
    "        continue\n",
    "\n",
    "    if num > 0:\n",
    "        print(\"Number is positive\")\n",
    "    elif num < 0:\n",
    "        print(\"Number is negative\")\n",
    "    else:\n",
    "        print(\"Number is zero\")\n"
   ]
  },
  {
   "cell_type": "markdown",
   "id": "d6db8598",
   "metadata": {},
   "source": [
    "#### Create a python Script that takes two number as input and print wheather both numbers are even odd, or one of each using relational and logical operation"
   ]
  },
  {
   "cell_type": "code",
   "execution_count": 28,
   "id": "1a930a00",
   "metadata": {},
   "outputs": [
    {
     "name": "stdout",
     "output_type": "stream",
     "text": [
      "Enter the first number: 5\n",
      "Enter the second number: 3\n",
      "Both numbers are odd.\n"
     ]
    }
   ],
   "source": [
    "def is_even(number):\n",
    "    return number % 2 == 0\n",
    "\n",
    "def is_odd(number):\n",
    "    return number % 2 != 0\n",
    "\n",
    "try:\n",
    "    num1 = int(input(\"Enter the first number: \"))\n",
    "    num2 = int(input(\"Enter the second number: \"))\n",
    "except ValueError:\n",
    "    print(\"Invalid input. Please enter valid integers.\")\n",
    "    exit()\n",
    "    \n",
    "num1_even = is_even(num1)\n",
    "num2_even = is_even(num2)\n",
    "\n",
    "if num1_even and num2_even:\n",
    "    print(\"Both numbers are even.\")\n",
    "elif not num1_even and not num2_even:\n",
    "    print(\"Both numbers are odd.\")\n",
    "else:\n",
    "    print(\"One number is even and the other is odd.\")\n"
   ]
  },
  {
   "cell_type": "markdown",
   "id": "e5e4bc0a",
   "metadata": {},
   "source": [
    "### For loop and Bitwise operators"
   ]
  },
  {
   "cell_type": "markdown",
   "id": "7a9a324c",
   "metadata": {},
   "source": [
    "#### Write a python program that takes an integer input and prints its binary, octal, and hexadecimal equivalents using loop and biwise operators"
   ]
  },
  {
   "cell_type": "code",
   "execution_count": 29,
   "id": "4fe6daf7",
   "metadata": {},
   "outputs": [],
   "source": [
    "def int_to_binary(n):\n",
    "    if n == 0:\n",
    "        return \"0b0\"\n",
    "    \n",
    "    binary_str = \"\"\n",
    "    while n > 0:\n",
    "        binary_str = str(n & 1) + binary_str  # Append the last bit\n",
    "        n >>= 1  # Shift right to process the next bit\n",
    "    return \"0b\" + binary_str"
   ]
  },
  {
   "cell_type": "code",
   "execution_count": 30,
   "id": "05bab961",
   "metadata": {},
   "outputs": [],
   "source": [
    "def int_to_octal(n):\n",
    "    if n == 0:\n",
    "        return \"0o0\"\n",
    "    \n",
    "    octal_str = \"\"\n",
    "    while n > 0:\n",
    "        octal_str = str(n & 7) + octal_str  # Append the last 3 bits (octal digit)\n",
    "        n >>= 3  # Shift right by 3 bits\n",
    "    return \"0o\" + octal_str"
   ]
  },
  {
   "cell_type": "code",
   "execution_count": 31,
   "id": "3cf3fdac",
   "metadata": {},
   "outputs": [],
   "source": [
    "\n",
    "def int_to_hexadecimal(n):\n",
    "    if n == 0:\n",
    "        return \"0x0\"\n",
    "    \n",
    "    hex_str = \"\"\n",
    "    hex_digits = \"0123456789ABCDEF\"\n",
    "    while n > 0:\n",
    "        hex_str = hex_digits[n & 15] + hex_str  # Append the last 4 bits (hex digit)\n",
    "        n >>= 4  # Shift right by 4 bits\n",
    "    return \"0x\" + hex_str"
   ]
  },
  {
   "cell_type": "code",
   "execution_count": 32,
   "id": "61c5f0c3",
   "metadata": {},
   "outputs": [
    {
     "name": "stdout",
     "output_type": "stream",
     "text": [
      "Enter an integer: 10\n",
      "Binary representation: 0b1010\n",
      "Octal representation: 0o12\n",
      "Hexadecimal representation: 0xA\n"
     ]
    }
   ],
   "source": [
    "try:\n",
    "    num = int(input(\"Enter an integer: \"))\n",
    "except ValueError:\n",
    "    print(\"Invalid input. Please enter a valid integer.\")\n",
    "    exit()\n",
    "\n",
    "print(\"Binary representation:\", int_to_binary(num))\n",
    "print(\"Octal representation:\", int_to_octal(num))\n",
    "print(\"Hexadecimal representation:\", int_to_hexadecimal(num))\n"
   ]
  },
  {
   "cell_type": "code",
   "execution_count": null,
   "id": "93f4ec05",
   "metadata": {},
   "outputs": [],
   "source": []
  }
 ],
 "metadata": {
  "kernelspec": {
   "display_name": "Python 3 (ipykernel)",
   "language": "python",
   "name": "python3"
  },
  "language_info": {
   "codemirror_mode": {
    "name": "ipython",
    "version": 3
   },
   "file_extension": ".py",
   "mimetype": "text/x-python",
   "name": "python",
   "nbconvert_exporter": "python",
   "pygments_lexer": "ipython3",
   "version": "3.11.4"
  }
 },
 "nbformat": 4,
 "nbformat_minor": 5
}
