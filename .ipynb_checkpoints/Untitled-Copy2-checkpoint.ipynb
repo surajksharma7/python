{
 "cells": [
  {
   "cell_type": "markdown",
   "id": "939953f4-4e18-4fa9-b90a-41f0bfa3e94a",
   "metadata": {},
   "source": [
    "### using pickle file "
   ]
  },
  {
   "cell_type": "code",
   "execution_count": 1,
   "id": "2e15c740-ebdd-43e9-883f-c612db50eac1",
   "metadata": {},
   "outputs": [
    {
     "name": "stdout",
     "output_type": "stream",
     "text": [
      "process done\n"
     ]
    }
   ],
   "source": [
    "import pickle\n",
    "\n",
    "my_list = ['apple', 'banana', 'cherry']\n",
    "\n",
    "try:\n",
    "    with open('day30sept.pkl', 'wb') as file:\n",
    "        pickle.dump(my_list, file)\n",
    "    print(\"process done\")\n",
    "except:\n",
    "    print(\"could not import this file to list \")"
   ]
  },
  {
   "cell_type": "code",
   "execution_count": 2,
   "id": "b7b21463-c243-49cf-90d6-4b16048cc17d",
   "metadata": {},
   "outputs": [
    {
     "name": "stdout",
     "output_type": "stream",
     "text": [
      "['apple', 'banana', 'cherry']\n"
     ]
    }
   ],
   "source": [
    "import pickle\n",
    "with open('day30.pkl', 'rb') as file:\n",
    "    loaded_list = pickle.load(file)\n",
    "print(loaded_list)"
   ]
  },
  {
   "cell_type": "markdown",
   "id": "2a9a9e2d-24f9-4ba7-b489-59b8053329f8",
   "metadata": {},
   "source": [
    "#### Using read and write file "
   ]
  },
  {
   "cell_type": "code",
   "execution_count": 3,
   "id": "7f926006-5a1f-4a58-aefb-bad9be14d4f0",
   "metadata": {},
   "outputs": [
    {
     "ename": "NameError",
     "evalue": "name 'list1' is not defined",
     "output_type": "error",
     "traceback": [
      "\u001b[1;31m---------------------------------------------------------------------------\u001b[0m",
      "\u001b[1;31mNameError\u001b[0m                                 Traceback (most recent call last)",
      "Cell \u001b[1;32mIn[3], line 6\u001b[0m\n\u001b[0;32m      3\u001b[0m filePath \u001b[38;5;241m=\u001b[39m \u001b[38;5;124m\"\u001b[39m\u001b[38;5;124mdate.txt\u001b[39m\u001b[38;5;124m\"\u001b[39m\n\u001b[0;32m      5\u001b[0m \u001b[38;5;28;01mwith\u001b[39;00m \u001b[38;5;28mopen\u001b[39m (filePath,\u001b[38;5;124m\"\u001b[39m\u001b[38;5;124mw\u001b[39m\u001b[38;5;124m\"\u001b[39m) \u001b[38;5;28;01mas\u001b[39;00m filehandle:\n\u001b[1;32m----> 6\u001b[0m     filehandle\u001b[38;5;241m.\u001b[39mwrite(list1)\n",
      "\u001b[1;31mNameError\u001b[0m: name 'list1' is not defined"
     ]
    }
   ],
   "source": [
    "list = [1,2,3,4,5]\n",
    "\n",
    "filePath = \"date.txt\"\n",
    "\n",
    "with open (filePath,\"w\") as filehandle:\n",
    "    filehandle.write(list1)"
   ]
  },
  {
   "cell_type": "code",
   "execution_count": null,
   "id": "2525480c-3e41-442d-8b1d-dbb65c9e514b",
   "metadata": {},
   "outputs": [],
   "source": []
  },
  {
   "cell_type": "code",
   "execution_count": null,
   "id": "c76ef73e-fb0d-4c0b-a61f-9b5b9992aa62",
   "metadata": {},
   "outputs": [],
   "source": [
    "with open (filepath,\"r\") as filehandle:\n",
    "    readata = filehandle.read(list1)\n",
    "    print(f\"read data is {readata} \\n its type is {type(readata)}\")"
   ]
  }
 ],
 "metadata": {
  "kernelspec": {
   "display_name": "Python 3 (ipykernel)",
   "language": "python",
   "name": "python3"
  },
  "language_info": {
   "codemirror_mode": {
    "name": "ipython",
    "version": 3
   },
   "file_extension": ".py",
   "mimetype": "text/x-python",
   "name": "python",
   "nbconvert_exporter": "python",
   "pygments_lexer": "ipython3",
   "version": "3.12.4"
  }
 },
 "nbformat": 4,
 "nbformat_minor": 5
}
